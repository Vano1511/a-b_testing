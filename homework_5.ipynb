{
 "cells": [
  {
   "cell_type": "markdown",
   "id": "2d30edbd",
   "metadata": {},
   "source": [
    "# Задача №2 \n",
    "(сначала его, так как ответ обосновывает решение первой задачи)\n",
    "##### Сравниваем метрику конверсия в покупку. Размер выборки - 10000 элементов в каждой группе . Какой статистический критерий тут лучше всего подойдёт и почему ?"
   ]
  },
  {
   "cell_type": "markdown",
   "id": "8efb9386",
   "metadata": {},
   "source": [
    "### Мое мнение:\n",
    "- элементы массива выборки будут иметь только два булевых значения(купил, не купил), (1, 0), (True, False) и т.д.;\n",
    "- сам процент конверсии в покупку является средним выборки;\n",
    "- выборка большая(10тыс.) и среднеквадратическое отклонение неизвестно, значит,применяем коэфициент Стьюдента;\n",
    "- наиболее оптимальным будет сравнение выборок по средством построения доверительного конверсии интервала у тестируемой и проверки вхождения конверсии первоначальной в этот интервал;"
   ]
  },
  {
   "cell_type": "markdown",
   "id": "d568714e",
   "metadata": {},
   "source": [
    "### Теперь приступаем к заданию №1\n",
    "###### Вы провели эксперимент c упрощением формы заказа в магазине Утконос и получили результаты по метрике конверсий в покупку. Выберите метод оценки и оцените есть ли стат.значимые различия между конверсиями в двух группах при alpha = 5%. Дайте краткие рекомендации команде .\n",
    "<br>Результаты: \n",
    "1. Число юзеров в группах , которые заходили на сайт в период эксперимента: n1 = 15550 и n2 = 15550 . \n",
    "2. Число юзеров в группах , которые совершили хотя бы одну покупку за период эксперимента: n1 = 164 и n2 = 228 \n",
    "3. Конверсии : conv1 = 1.05% conv2 = 1.47% . "
   ]
  },
  {
   "cell_type": "code",
   "execution_count": 1,
   "id": "73492d27",
   "metadata": {},
   "outputs": [],
   "source": [
    "import numpy as np\n",
    "from scipy import stats as st"
   ]
  },
  {
   "cell_type": "code",
   "execution_count": 4,
   "id": "4ca60bda",
   "metadata": {},
   "outputs": [
    {
     "data": {
      "text/plain": [
       "(0.010546623794212218, 0.014662379421221864)"
      ]
     },
     "execution_count": 4,
     "metadata": {},
     "output_type": "execute_result"
    }
   ],
   "source": [
    "alpha = 0.05\n",
    "n1 = n2 = 15550\n",
    "buy1 = 164\n",
    "buy2 = 228\n",
    "conv1 = buy1 / n1\n",
    "conv2 = buy2 / n2\n",
    "conv1, conv2  "
   ]
  },
  {
   "cell_type": "code",
   "execution_count": 8,
   "id": "9e5b7983",
   "metadata": {},
   "outputs": [
    {
     "data": {
      "text/plain": [
       "1.960116553848866"
      ]
     },
     "execution_count": 8,
     "metadata": {},
     "output_type": "execute_result"
    }
   ],
   "source": [
    "limit = st.t.ppf(1 - alpha / 2, n1) # находим критерий Стьюдента для построения доверительного интервала\n",
    "limit"
   ]
  },
  {
   "cell_type": "markdown",
   "id": "6032c9ce",
   "metadata": {},
   "source": [
    " ###### пускай гипотеза Н0 - нет статистических различий между выборками, тогда conv1 будет лежать в 95% доверительном интервале второй выборки, иначе принимаем гипотезу Н1"
   ]
  },
  {
   "cell_type": "code",
   "execution_count": 9,
   "id": "03bb7275",
   "metadata": {},
   "outputs": [
    {
     "data": {
      "text/plain": [
       "(0.012773033593402209, 0.01655172524904152)"
      ]
     },
     "execution_count": 9,
     "metadata": {},
     "output_type": "execute_result"
    }
   ],
   "source": [
    "interval = (conv2 - limit * np.sqrt((conv2 * (1 - conv2)) / n2), conv2 + limit * np.sqrt((conv2 * (1 - conv2)) / n2))\n",
    "interval"
   ]
  },
  {
   "cell_type": "code",
   "execution_count": 10,
   "id": "740ff694",
   "metadata": {},
   "outputs": [
    {
     "name": "stdout",
     "output_type": "stream",
     "text": [
      "accepted H1\n"
     ]
    }
   ],
   "source": [
    "if interval[0] <= conv1 <= interval[1]:\n",
    "    print(\"acceptet H0\")\n",
    "else:\n",
    "    print(\"accepted H1\")"
   ]
  },
  {
   "cell_type": "markdown",
   "id": "ff1a6c14",
   "metadata": {},
   "source": [
    "### Выводы:\n",
    "- так как принимает гипотезу Н1, значит различия есть;\n",
    "- значение конверсии по второй выборке выше, чем по первой(значит, метрика улучшилась);\n",
    "- вводим нововведения, так как ини улучшают метрику конверсии на около 40%;\n"
   ]
  }
 ],
 "metadata": {
  "kernelspec": {
   "display_name": "Python 3 (ipykernel)",
   "language": "python",
   "name": "python3"
  },
  "language_info": {
   "codemirror_mode": {
    "name": "ipython",
    "version": 3
   },
   "file_extension": ".py",
   "mimetype": "text/x-python",
   "name": "python",
   "nbconvert_exporter": "python",
   "pygments_lexer": "ipython3",
   "version": "3.9.13"
  }
 },
 "nbformat": 4,
 "nbformat_minor": 5
}
