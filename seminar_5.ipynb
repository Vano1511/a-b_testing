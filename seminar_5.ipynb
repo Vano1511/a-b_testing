{
 "cells": [
  {
   "cell_type": "code",
   "execution_count": 10,
   "id": "9913d2b5",
   "metadata": {},
   "outputs": [],
   "source": [
    "import numpy as np\n",
    "from scipy import stats"
   ]
  },
  {
   "cell_type": "code",
   "execution_count": 2,
   "id": "3cbf1187",
   "metadata": {},
   "outputs": [],
   "source": [
    "data = np.array([5, 5, 5, 18, 10, 8, 9, 10, 19, 21 ])"
   ]
  },
  {
   "cell_type": "code",
   "execution_count": 4,
   "id": "fd3b4ae6",
   "metadata": {},
   "outputs": [
    {
     "data": {
      "text/plain": [
       "11.0"
      ]
     },
     "execution_count": 4,
     "metadata": {},
     "output_type": "execute_result"
    }
   ],
   "source": [
    "data.mean()  # среднее арифметическое"
   ]
  },
  {
   "cell_type": "code",
   "execution_count": 6,
   "id": "a8d70ac3",
   "metadata": {},
   "outputs": [
    {
     "data": {
      "text/plain": [
       "9.5"
      ]
     },
     "execution_count": 6,
     "metadata": {},
     "output_type": "execute_result"
    }
   ],
   "source": [
    "np.median(data)   # медиана"
   ]
  },
  {
   "cell_type": "code",
   "execution_count": 12,
   "id": "15ef5f03",
   "metadata": {},
   "outputs": [
    {
     "data": {
      "text/plain": [
       "37.333333333333336"
      ]
     },
     "execution_count": 12,
     "metadata": {},
     "output_type": "execute_result"
    }
   ],
   "source": [
    "data.var(ddof=1)  # дисперсия"
   ]
  },
  {
   "cell_type": "code",
   "execution_count": 13,
   "id": "01397c47",
   "metadata": {},
   "outputs": [
    {
     "data": {
      "text/plain": [
       "6.110100926607787"
      ]
     },
     "execution_count": 13,
     "metadata": {},
     "output_type": "execute_result"
    }
   ],
   "source": [
    "data.std(ddof=1)  # стандартное отклонение"
   ]
  },
  {
   "cell_type": "code",
   "execution_count": 11,
   "id": "3df4cc6c",
   "metadata": {},
   "outputs": [
    {
     "name": "stderr",
     "output_type": "stream",
     "text": [
      "/tmp/ipykernel_5251/3730277405.py:1: FutureWarning: Unlike other reduction functions (e.g. `skew`, `kurtosis`), the default behavior of `mode` typically preserves the axis it acts along. In SciPy 1.11.0, this behavior will change: the default value of `keepdims` will become False, the `axis` over which the statistic is taken will be eliminated, and the value None will no longer be accepted. Set `keepdims` to True or False to avoid this warning.\n",
      "  stats.mode(data) # мода\n"
     ]
    },
    {
     "data": {
      "text/plain": [
       "ModeResult(mode=array([5]), count=array([3]))"
      ]
     },
     "execution_count": 11,
     "metadata": {},
     "output_type": "execute_result"
    }
   ],
   "source": [
    "stats.mode(data) # мода"
   ]
  },
  {
   "cell_type": "code",
   "execution_count": null,
   "id": "82a752db",
   "metadata": {},
   "outputs": [],
   "source": []
  }
 ],
 "metadata": {
  "kernelspec": {
   "display_name": "Python 3 (ipykernel)",
   "language": "python",
   "name": "python3"
  },
  "language_info": {
   "codemirror_mode": {
    "name": "ipython",
    "version": 3
   },
   "file_extension": ".py",
   "mimetype": "text/x-python",
   "name": "python",
   "nbconvert_exporter": "python",
   "pygments_lexer": "ipython3",
   "version": "3.9.13"
  }
 },
 "nbformat": 4,
 "nbformat_minor": 5
}
